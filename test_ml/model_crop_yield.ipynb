{
 "cells": [
  {
   "cell_type": "code",
   "execution_count": 1,
   "metadata": {},
   "outputs": [
    {
     "data": {
      "text/html": [
       "<div>\n",
       "<style scoped>\n",
       "    .dataframe tbody tr th:only-of-type {\n",
       "        vertical-align: middle;\n",
       "    }\n",
       "\n",
       "    .dataframe tbody tr th {\n",
       "        vertical-align: top;\n",
       "    }\n",
       "\n",
       "    .dataframe thead th {\n",
       "        text-align: right;\n",
       "    }\n",
       "</style>\n",
       "<table border=\"1\" class=\"dataframe\">\n",
       "  <thead>\n",
       "    <tr style=\"text-align: right;\">\n",
       "      <th></th>\n",
       "      <th>crop</th>\n",
       "      <th>year</th>\n",
       "      <th>value</th>\n",
       "      <th>crop_val</th>\n",
       "    </tr>\n",
       "  </thead>\n",
       "  <tbody>\n",
       "    <tr>\n",
       "      <th>0</th>\n",
       "      <td>Almonds, with shell</td>\n",
       "      <td>1991</td>\n",
       "      <td>42903</td>\n",
       "      <td>0</td>\n",
       "    </tr>\n",
       "    <tr>\n",
       "      <th>1</th>\n",
       "      <td>Almonds, with shell</td>\n",
       "      <td>1992</td>\n",
       "      <td>44421</td>\n",
       "      <td>0</td>\n",
       "    </tr>\n",
       "    <tr>\n",
       "      <th>2</th>\n",
       "      <td>Almonds, with shell</td>\n",
       "      <td>1993</td>\n",
       "      <td>44066</td>\n",
       "      <td>0</td>\n",
       "    </tr>\n",
       "    <tr>\n",
       "      <th>3</th>\n",
       "      <td>Almonds, with shell</td>\n",
       "      <td>1994</td>\n",
       "      <td>44056</td>\n",
       "      <td>0</td>\n",
       "    </tr>\n",
       "    <tr>\n",
       "      <th>4</th>\n",
       "      <td>Almonds, with shell</td>\n",
       "      <td>1995</td>\n",
       "      <td>47477</td>\n",
       "      <td>0</td>\n",
       "    </tr>\n",
       "  </tbody>\n",
       "</table>\n",
       "</div>"
      ],
      "text/plain": [
       "                  crop  year  value  crop_val\n",
       "0  Almonds, with shell  1991  42903         0\n",
       "1  Almonds, with shell  1992  44421         0\n",
       "2  Almonds, with shell  1993  44066         0\n",
       "3  Almonds, with shell  1994  44056         0\n",
       "4  Almonds, with shell  1995  47477         0"
      ]
     },
     "execution_count": 1,
     "metadata": {},
     "output_type": "execute_result"
    }
   ],
   "source": [
    "import pandas as pd \n",
    "import numpy as np\n",
    "import matplotlib.pyplot as plt \n",
    "from sklearn.ensemble import GradientBoostingRegressor\n",
    "from sklearn.ensemble import RandomForestRegressor\n",
    "from sklearn.linear_model import LinearRegression\n",
    "from sklearn.linear_model import ElasticNet\n",
    "from sklearn.linear_model import Lasso\n",
    "from sklearn.ensemble import VotingRegressor\n",
    "\n",
    "#for visualization of initial dataset\n",
    "cy = pd.read_csv('pk_crop_yield.csv')\n",
    "cy.head()\n",
    "#cy.pivot_table(values=\"value\", index=\"year\", columns=\"crop\").plot(figsize=(9,7))"
   ]
  },
  {
   "cell_type": "code",
   "execution_count": 2,
   "metadata": {},
   "outputs": [
    {
     "data": {
      "text/html": [
       "<div>\n",
       "<style scoped>\n",
       "    .dataframe tbody tr th:only-of-type {\n",
       "        vertical-align: middle;\n",
       "    }\n",
       "\n",
       "    .dataframe tbody tr th {\n",
       "        vertical-align: top;\n",
       "    }\n",
       "\n",
       "    .dataframe thead th {\n",
       "        text-align: right;\n",
       "    }\n",
       "</style>\n",
       "<table border=\"1\" class=\"dataframe\">\n",
       "  <thead>\n",
       "    <tr style=\"text-align: right;\">\n",
       "      <th></th>\n",
       "      <th>crop</th>\n",
       "      <th>year</th>\n",
       "      <th>value</th>\n",
       "      <th>crop_val</th>\n",
       "    </tr>\n",
       "  </thead>\n",
       "  <tbody>\n",
       "    <tr>\n",
       "      <th>0</th>\n",
       "      <td>Dates</td>\n",
       "      <td>2008</td>\n",
       "      <td>62448</td>\n",
       "      <td>18</td>\n",
       "    </tr>\n",
       "    <tr>\n",
       "      <th>1</th>\n",
       "      <td>Sesame seed</td>\n",
       "      <td>2010</td>\n",
       "      <td>3997</td>\n",
       "      <td>57</td>\n",
       "    </tr>\n",
       "    <tr>\n",
       "      <th>2</th>\n",
       "      <td>Tobacco, unmanufactured</td>\n",
       "      <td>1995</td>\n",
       "      <td>17056</td>\n",
       "      <td>67</td>\n",
       "    </tr>\n",
       "    <tr>\n",
       "      <th>3</th>\n",
       "      <td>Groundnuts, with shell</td>\n",
       "      <td>2009</td>\n",
       "      <td>6087</td>\n",
       "      <td>26</td>\n",
       "    </tr>\n",
       "    <tr>\n",
       "      <th>4</th>\n",
       "      <td>Pumpkins, squash and gourds</td>\n",
       "      <td>2011</td>\n",
       "      <td>99247</td>\n",
       "      <td>51</td>\n",
       "    </tr>\n",
       "  </tbody>\n",
       "</table>\n",
       "</div>"
      ],
      "text/plain": [
       "                          crop  year  value  crop_val\n",
       "0                        Dates  2008  62448        18\n",
       "1                  Sesame seed  2010   3997        57\n",
       "2      Tobacco, unmanufactured  1995  17056        67\n",
       "3       Groundnuts, with shell  2009   6087        26\n",
       "4  Pumpkins, squash and gourds  2011  99247        51"
      ]
     },
     "execution_count": 2,
     "metadata": {},
     "output_type": "execute_result"
    }
   ],
   "source": [
    "cy_train = pd.read_csv('pk_crop_yield_train.csv')\n",
    "cy_train.head()"
   ]
  },
  {
   "cell_type": "code",
   "execution_count": 3,
   "metadata": {},
   "outputs": [
    {
     "name": "stdout",
     "output_type": "stream",
     "text": [
      "      Actual-Yield  Predicted-Yield\n",
      "0            62448     62466.559835\n",
      "1             3997     56438.037797\n",
      "2            17056     68656.953067\n",
      "3             6087     44301.982147\n",
      "4            99247     83097.836639\n",
      "...            ...              ...\n",
      "1465         77222     70973.244970\n",
      "1466         47453     68275.582164\n",
      "1467         99869     79811.288366\n",
      "1468         88732     75554.052681\n",
      "1469         67206     73242.169682\n",
      "\n",
      "[1470 rows x 2 columns]\n"
     ]
    },
    {
     "data": {
      "image/png": "[encoded data removed]",
      "text/plain": [
       "<Figure size 576x360 with 1 Axes>"
      ]
     },
     "metadata": {
      "needs_background": "light"
     },
     "output_type": "display_data"
    }
   ],
   "source": [
    "cy_output = cy_train['value']\n",
    "cy_input = cy_train[['crop_val','year']]\n",
    "\n",
    "reg1 = GradientBoostingRegressor(random_state=1)\n",
    "reg2 = RandomForestRegressor(random_state=1)\n",
    "reg3 = LinearRegression()\n",
    "reg4 = ElasticNet(random_state=1)\n",
    "reg5 = Lasso(random_state=1)\n",
    "ereg = VotingRegressor(estimators=[('gb', reg1), ('rf', reg2), ('lr', reg3), ('el', reg4), ('la', reg5)])\n",
    "ereg = ereg.fit(cy_input, cy_output)\n",
    "\n",
    "\n",
    "cy_predict = ereg.predict(cy_input)\n",
    "df = pd.DataFrame({'Actual-Yield': cy_output, 'Predicted-Yield': cy_predict})\n",
    "print(df)\n",
    "\n",
    "df1 = df.head(20)\n",
    "df1.plot(kind='bar',figsize=(8,5))\n",
    "plt.grid(which='major', linestyle='-', linewidth='0.5', color='green')\n",
    "plt.grid(which='minor', linestyle=':', linewidth='0.5', color='black')\n",
    "plt.show()"
   ]
  },
  {
   "cell_type": "code",
   "execution_count": 4,
   "metadata": {},
   "outputs": [
    {
     "name": "stdout",
     "output_type": "stream",
     "text": [
      "     Actual-Yield  Predicted-Yield\n",
      "0           85318     74739.120698\n",
      "1            5403     38336.536983\n",
      "2            4008     56495.884441\n",
      "3          141429     94400.096386\n",
      "4          132235     84721.732251\n",
      "..            ...              ...\n",
      "625        102488     98376.249861\n",
      "626        109455     98645.656487\n",
      "627         35966     66249.583575\n",
      "628          9976     44801.072112\n",
      "629          8149     49138.925359\n",
      "\n",
      "[630 rows x 2 columns]\n"
     ]
    },
    {
     "data": {
      "image/png": "[encoded data removed]",
      "text/plain": [
       "<Figure size 576x360 with 1 Axes>"
      ]
     },
     "metadata": {
      "needs_background": "light"
     },
     "output_type": "display_data"
    }
   ],
   "source": [
    "cy_test = pd.read_csv('pk_crop_yield_test.csv')\n",
    "cy_output_test = cy_test['value']\n",
    "cy_input_test = cy_test[['crop_val','year']]\n",
    "\n",
    "cy_output_test_predict = ereg.predict(cy_input_test)\n",
    "df = pd.DataFrame({'Actual-Yield': cy_output_test, 'Predicted-Yield': cy_output_test_predict})\n",
    "print(df)\n",
    "\n",
    "df1 = df.head(20)\n",
    "df1.plot(kind='bar',figsize=(8,5))\n",
    "plt.grid(which='major', linestyle='-', linewidth='0.5', color='green')\n",
    "plt.grid(which='minor', linestyle=':', linewidth='0.5', color='black')\n",
    "plt.show()"
   ]
  },
  {
   "cell_type": "code",
   "execution_count": 5,
   "metadata": {},
   "outputs": [
    {
     "name": "stdout",
     "output_type": "stream",
     "text": [
      "[33700.17618487]\n"
     ]
    }
   ],
   "source": [
    "user_input_crop = 4\n",
    "user_input_year = 2021 \n",
    "test_user_predict = ereg.predict([[user_input_crop, user_input_year]]) \n",
    "print (test_user_predict)"
   ]
  },
  {
   "cell_type": "code",
   "execution_count": 6,
   "metadata": {},
   "outputs": [],
   "source": [
    "pd.to_pickle(ereg,r'..\\crop_yield_model.pickle')"
   ]
  },
  {
   "cell_type": "code",
   "execution_count": null,
   "metadata": {},
   "outputs": [],
   "source": []
  }
 ],
 "metadata": {
  "interpreter": {
   "hash": "44f81d3d9627231a95b475ab7182f83e981d309638dd62b2fa1d10adb9987791"
  },
  "kernelspec": {
   "display_name": "Python 3.8.10 64-bit",
   "name": "python3"
  },
  "language_info": {
   "codemirror_mode": {
    "name": "ipython",
    "version": 3
   },
   "file_extension": ".py",
   "mimetype": "text/x-python",
   "name": "python",
   "nbconvert_exporter": "python",
   "pygments_lexer": "ipython3",
   "version": "3.8.10"
  },
  "orig_nbformat": 4
 },
 "nbformat": 4,
 "nbformat_minor": 2
}