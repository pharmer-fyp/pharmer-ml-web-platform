{
 "cells": [
  {
   "cell_type": "code",
   "execution_count": 1,
   "metadata": {},
   "outputs": [
    {
     "data": {
      "text/html": [
       "<div>\n",
       "<style scoped>\n",
       "    .dataframe tbody tr th:only-of-type {\n",
       "        vertical-align: middle;\n",
       "    }\n",
       "\n",
       "    .dataframe tbody tr th {\n",
       "        vertical-align: top;\n",
       "    }\n",
       "\n",
       "    .dataframe thead th {\n",
       "        text-align: right;\n",
       "    }\n",
       "</style>\n",
       "<table border=\"1\" class=\"dataframe\">\n",
       "  <thead>\n",
       "    <tr style=\"text-align: right;\">\n",
       "      <th></th>\n",
       "      <th>crop</th>\n",
       "      <th>year</th>\n",
       "      <th>value</th>\n",
       "      <th>crop_val</th>\n",
       "    </tr>\n",
       "  </thead>\n",
       "  <tbody>\n",
       "    <tr>\n",
       "      <th>0</th>\n",
       "      <td>Almonds, with shell</td>\n",
       "      <td>1991</td>\n",
       "      <td>1168830</td>\n",
       "      <td>0</td>\n",
       "    </tr>\n",
       "    <tr>\n",
       "      <th>1</th>\n",
       "      <td>Almonds, with shell</td>\n",
       "      <td>1992</td>\n",
       "      <td>1388520</td>\n",
       "      <td>0</td>\n",
       "    </tr>\n",
       "    <tr>\n",
       "      <th>2</th>\n",
       "      <td>Almonds, with shell</td>\n",
       "      <td>1993</td>\n",
       "      <td>2437618</td>\n",
       "      <td>0</td>\n",
       "    </tr>\n",
       "    <tr>\n",
       "      <th>3</th>\n",
       "      <td>Almonds, with shell</td>\n",
       "      <td>1994</td>\n",
       "      <td>2673166</td>\n",
       "      <td>0</td>\n",
       "    </tr>\n",
       "    <tr>\n",
       "      <th>4</th>\n",
       "      <td>Almonds, with shell</td>\n",
       "      <td>1995</td>\n",
       "      <td>2776848</td>\n",
       "      <td>0</td>\n",
       "    </tr>\n",
       "  </tbody>\n",
       "</table>\n",
       "</div>"
      ],
      "text/plain": [
       "                  crop  year    value  crop_val\n",
       "0  Almonds, with shell  1991  1168830         0\n",
       "1  Almonds, with shell  1992  1388520         0\n",
       "2  Almonds, with shell  1993  2437618         0\n",
       "3  Almonds, with shell  1994  2673166         0\n",
       "4  Almonds, with shell  1995  2776848         0"
      ]
     },
     "execution_count": 1,
     "metadata": {},
     "output_type": "execute_result"
    }
   ],
   "source": [
    "import pandas as pd \n",
    "import numpy as np\n",
    "import matplotlib.pyplot as plt \n",
    "from sklearn.ensemble import GradientBoostingRegressor\n",
    "from sklearn.ensemble import RandomForestRegressor\n",
    "from sklearn.linear_model import LinearRegression\n",
    "from sklearn.linear_model import ElasticNet\n",
    "from sklearn.linear_model import Lasso\n",
    "from sklearn.ensemble import VotingRegressor\n",
    "#for visualization of initial dataset\n",
    "cv = pd.read_csv('pk_crop_value.csv')\n",
    "cv.head()\n",
    "#cy.pivot_table(values=\"value\", index=\"year\", columns=\"crop\").plot(figsize=(9,7))"
   ]
  },
  {
   "cell_type": "code",
   "execution_count": 2,
   "metadata": {},
   "outputs": [
    {
     "data": {
      "text/html": [
       "<div>\n",
       "<style scoped>\n",
       "    .dataframe tbody tr th:only-of-type {\n",
       "        vertical-align: middle;\n",
       "    }\n",
       "\n",
       "    .dataframe tbody tr th {\n",
       "        vertical-align: top;\n",
       "    }\n",
       "\n",
       "    .dataframe thead th {\n",
       "        text-align: right;\n",
       "    }\n",
       "</style>\n",
       "<table border=\"1\" class=\"dataframe\">\n",
       "  <thead>\n",
       "    <tr style=\"text-align: right;\">\n",
       "      <th></th>\n",
       "      <th>crop</th>\n",
       "      <th>year</th>\n",
       "      <th>value</th>\n",
       "      <th>crop_val</th>\n",
       "    </tr>\n",
       "  </thead>\n",
       "  <tbody>\n",
       "    <tr>\n",
       "      <th>0</th>\n",
       "      <td>Groundnuts, with shell</td>\n",
       "      <td>1997</td>\n",
       "      <td>2591324</td>\n",
       "      <td>24</td>\n",
       "    </tr>\n",
       "    <tr>\n",
       "      <th>1</th>\n",
       "      <td>Sweet potatoes</td>\n",
       "      <td>1997</td>\n",
       "      <td>65999</td>\n",
       "      <td>62</td>\n",
       "    </tr>\n",
       "    <tr>\n",
       "      <th>2</th>\n",
       "      <td>Fruit, tropical fresh nes</td>\n",
       "      <td>2012</td>\n",
       "      <td>14723217</td>\n",
       "      <td>20</td>\n",
       "    </tr>\n",
       "    <tr>\n",
       "      <th>3</th>\n",
       "      <td>Tobacco, unmanufactured</td>\n",
       "      <td>2012</td>\n",
       "      <td>6547002</td>\n",
       "      <td>64</td>\n",
       "    </tr>\n",
       "    <tr>\n",
       "      <th>4</th>\n",
       "      <td>Chick peas</td>\n",
       "      <td>2006</td>\n",
       "      <td>5800176</td>\n",
       "      <td>12</td>\n",
       "    </tr>\n",
       "  </tbody>\n",
       "</table>\n",
       "</div>"
      ],
      "text/plain": [
       "                        crop  year     value  crop_val\n",
       "0     Groundnuts, with shell  1997   2591324        24\n",
       "1             Sweet potatoes  1997     65999        62\n",
       "2  Fruit, tropical fresh nes  2012  14723217        20\n",
       "3    Tobacco, unmanufactured  2012   6547002        64\n",
       "4                 Chick peas  2006   5800176        12"
      ]
     },
     "execution_count": 2,
     "metadata": {},
     "output_type": "execute_result"
    }
   ],
   "source": [
    "cv_train = pd.read_csv('pk_crop_value_train.csv')\n",
    "cv_train.head()"
   ]
  },
  {
   "cell_type": "code",
   "execution_count": 3,
   "metadata": {},
   "outputs": [
    {
     "name": "stdout",
     "output_type": "stream",
     "text": [
      "      Actual-Value  Predicted-Value\n",
      "0          2591324    -5.027387e+05\n",
      "1            65999     1.264300e+07\n",
      "2         14723217     1.460883e+07\n",
      "3          6547002     2.822754e+07\n",
      "4          5800176     3.805692e+06\n",
      "...            ...              ...\n",
      "1357        123857     6.251373e+06\n",
      "1358     238379275     1.271755e+08\n",
      "1359        576469    -6.108837e+06\n",
      "1360         53889     3.183349e+06\n",
      "1361        390767     7.894349e+06\n",
      "\n",
      "[1362 rows x 2 columns]\n"
     ]
    },
    {
     "data": {
      "image/png": "[encoded data removed]",
      "text/plain": [
       "<Figure size 576x360 with 1 Axes>"
      ]
     },
     "metadata": {
      "needs_background": "light"
     },
     "output_type": "display_data"
    }
   ],
   "source": [
    "cv_output = cv_train['value']\n",
    "cv_input = cv_train[['crop_val','year']]\n",
    "\n",
    "reg1 = GradientBoostingRegressor(random_state=1)\n",
    "reg2 = RandomForestRegressor(random_state=1)\n",
    "reg3 = LinearRegression()\n",
    "reg4 = ElasticNet(random_state=1)\n",
    "reg5 = Lasso(random_state=1)\n",
    "ereg = VotingRegressor(estimators=[('gb', reg1), ('rf', reg2), ('lr', reg3), ('el', reg4), ('la', reg5)])\n",
    "ereg = ereg.fit(cv_input, cv_output)\n",
    "\n",
    "\n",
    "cv_predict = ereg.predict(cv_input)\n",
    "df = pd.DataFrame({'Actual-Value': cv_output, 'Predicted-Value': cv_predict})\n",
    "print(df)\n",
    "\n",
    "df1 = df.head(20)\n",
    "df1.plot(kind='bar',figsize=(8,5))\n",
    "plt.grid(which='major', linestyle='-', linewidth='0.5', color='green')\n",
    "plt.grid(which='minor', linestyle=':', linewidth='0.5', color='black')\n",
    "plt.show()"
   ]
  },
  {
   "cell_type": "code",
   "execution_count": 4,
   "metadata": {},
   "outputs": [
    {
     "name": "stdout",
     "output_type": "stream",
     "text": [
      "     Actual-Yield  Predicted-Yield\n",
      "0           85318     4.974451e+06\n",
      "1            5403    -4.393692e+06\n",
      "2            4008     2.836894e+07\n",
      "3          141429     1.183084e+07\n",
      "4          132235    -1.038206e+07\n",
      "..            ...              ...\n",
      "625        102488     9.762972e+06\n",
      "626        109455     1.580886e+07\n",
      "627         35966     2.192984e+07\n",
      "628          9976     1.580415e+07\n",
      "629          8149     1.573832e+07\n",
      "\n",
      "[630 rows x 2 columns]\n"
     ]
    },
    {
     "data": {
      "image/png": "[encoded data removed]",
      "text/plain": [
       "<Figure size 576x360 with 1 Axes>"
      ]
     },
     "metadata": {
      "needs_background": "light"
     },
     "output_type": "display_data"
    }
   ],
   "source": [
    "cy_test = pd.read_csv('pk_crop_yield_test.csv')\n",
    "cy_output_test = cy_test['value']\n",
    "cy_input_test = cy_test[['crop_val','year']]\n",
    "\n",
    "cy_output_test_predict = ereg.predict(cy_input_test)\n",
    "df = pd.DataFrame({'Actual-Yield': cy_output_test, 'Predicted-Yield': cy_output_test_predict})\n",
    "print(df)\n",
    "\n",
    "df1 = df.head(20)\n",
    "df1.plot(kind='bar',figsize=(8,5))\n",
    "plt.grid(which='major', linestyle='-', linewidth='0.5', color='green')\n",
    "plt.grid(which='minor', linestyle=':', linewidth='0.5', color='black')\n",
    "plt.show()"
   ]
  },
  {
   "cell_type": "code",
   "execution_count": 5,
   "metadata": {},
   "outputs": [
    {
     "name": "stdout",
     "output_type": "stream",
     "text": [
      "[12872875.08155369]\n"
     ]
    }
   ],
   "source": [
    "user_input_crop = 4\n",
    "user_input_year = 2021 \n",
    "test_user_predict = ereg.predict([[user_input_crop, user_input_year]]) \n",
    "print (test_user_predict)"
   ]
  },
  {
   "cell_type": "code",
   "execution_count": 6,
   "metadata": {},
   "outputs": [],
   "source": [
    "pd.to_pickle(ereg,r'..\\crop_value_model.pickle')"
   ]
  },
  {
   "cell_type": "code",
   "execution_count": null,
   "metadata": {},
   "outputs": [],
   "source": []
  }
 ],
 "metadata": {
  "interpreter": {
   "hash": "44f81d3d9627231a95b475ab7182f83e981d309638dd62b2fa1d10adb9987791"
  },
  "kernelspec": {
   "display_name": "Python 3.8.10 64-bit",
   "name": "python3"
  },
  "language_info": {
   "codemirror_mode": {
    "name": "ipython",
    "version": 3
   },
   "file_extension": ".py",
   "mimetype": "text/x-python",
   "name": "python",
   "nbconvert_exporter": "python",
   "pygments_lexer": "ipython3",
   "version": "3.8.10"
  },
  "orig_nbformat": 4
 },
 "nbformat": 4,
 "nbformat_minor": 2
}